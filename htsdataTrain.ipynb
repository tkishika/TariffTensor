{
 "cells": [
  {
   "cell_type": "raw",
   "id": "421e6d7b-518a-4509-94a6-0b043ccdadc5",
   "metadata": {},
   "source": [
    "Dataset Source\n",
    "Harmonized Tariff Schedule Data: https://catalog.data.gov/dataset/harmonized-tariff-schedule-of-the-united-states-2024"
   ]
  },
  {
   "cell_type": "code",
   "execution_count": 10,
   "id": "facca570-2d7c-4b0c-8228-a69dd4180358",
   "metadata": {},
   "outputs": [],
   "source": [
    "import pandas as pd\n",
    "import numpy as np\n",
    "import tensorflow as tf\n",
    "from tensorflow import keras\n",
    "from sklearn.model_selection import train_test_split\n",
    "from sklearn.preprocessing import LabelEncoder\n",
    "from tensorflow.keras.preprocessing.text import Tokenizer\n",
    "from tensorflow.keras.preprocessing.sequence import pad_sequences\n",
    "import matplotlib.pyplot as plt"
   ]
  },
  {
   "cell_type": "code",
   "execution_count": 11,
   "id": "072bc0fc-b017-47c9-98ac-2928829e31f1",
   "metadata": {},
   "outputs": [],
   "source": [
    "# Step 2: Load Dataset\n",
    "hts = pd.read_csv('hts_dataset.csv')\n",
    "\n",
    "# Step 3: Preprocessing\n",
    "hts = hts[['Description', 'Additional Duties']].dropna()\n",
    "\n",
    "# Convert 'Additional Duties' to binary\n",
    "hts['Additional Duties Binary'] = hts['Additional Duties'].apply(lambda x: 1 if str(x).strip() != '' else 0)"
   ]
  },
  {
   "cell_type": "code",
   "execution_count": 7,
   "id": "d3a81fff-788e-4975-a03a-6d613703cb7b",
   "metadata": {},
   "outputs": [],
   "source": [
    "# Tokenize Description\n",
    "tokenizer = Tokenizer(num_words=5000, oov_token=\"<OOV>\")\n",
    "tokenizer.fit_on_texts(hts['Description'])\n",
    "\n",
    "sequences = tokenizer.texts_to_sequences(hts['Description'])\n",
    "padded_sequences = pad_sequences(sequences, padding='post', maxlen=100)\n",
    "\n",
    "X_hts = padded_sequences\n",
    "y_hts = hts['Additional Duties Binary'].values"
   ]
  },
  {
   "cell_type": "code",
   "execution_count": 8,
   "id": "4f09ee74-3837-4687-8f48-7778c0a8edca",
   "metadata": {},
   "outputs": [
    {
     "name": "stdout",
     "output_type": "stream",
     "text": [
      "Epoch 1/10\n",
      "\u001b[1m13/13\u001b[0m \u001b[32m━━━━━━━━━━━━━━━━━━━━\u001b[0m\u001b[37m\u001b[0m \u001b[1m1s\u001b[0m 24ms/step - accuracy: 1.0000 - loss: 0.3863 - val_accuracy: 1.0000 - val_loss: 0.0086\n",
      "Epoch 2/10\n",
      "\u001b[1m13/13\u001b[0m \u001b[32m━━━━━━━━━━━━━━━━━━━━\u001b[0m\u001b[37m\u001b[0m \u001b[1m0s\u001b[0m 12ms/step - accuracy: 1.0000 - loss: 0.0045 - val_accuracy: 1.0000 - val_loss: 3.3545e-04\n",
      "Epoch 3/10\n",
      "\u001b[1m13/13\u001b[0m \u001b[32m━━━━━━━━━━━━━━━━━━━━\u001b[0m\u001b[37m\u001b[0m \u001b[1m0s\u001b[0m 11ms/step - accuracy: 1.0000 - loss: 2.4841e-04 - val_accuracy: 1.0000 - val_loss: 9.9990e-05\n",
      "Epoch 4/10\n",
      "\u001b[1m13/13\u001b[0m \u001b[32m━━━━━━━━━━━━━━━━━━━━\u001b[0m\u001b[37m\u001b[0m \u001b[1m0s\u001b[0m 12ms/step - accuracy: 1.0000 - loss: 9.8811e-05 - val_accuracy: 1.0000 - val_loss: 6.6814e-05\n",
      "Epoch 5/10\n",
      "\u001b[1m13/13\u001b[0m \u001b[32m━━━━━━━━━━━━━━━━━━━━\u001b[0m\u001b[37m\u001b[0m \u001b[1m0s\u001b[0m 13ms/step - accuracy: 1.0000 - loss: 6.6233e-05 - val_accuracy: 1.0000 - val_loss: 5.8042e-05\n",
      "Epoch 6/10\n",
      "\u001b[1m13/13\u001b[0m \u001b[32m━━━━━━━━━━━━━━━━━━━━\u001b[0m\u001b[37m\u001b[0m \u001b[1m0s\u001b[0m 12ms/step - accuracy: 1.0000 - loss: 6.0151e-05 - val_accuracy: 1.0000 - val_loss: 5.4514e-05\n",
      "Epoch 7/10\n",
      "\u001b[1m13/13\u001b[0m \u001b[32m━━━━━━━━━━━━━━━━━━━━\u001b[0m\u001b[37m\u001b[0m \u001b[1m0s\u001b[0m 13ms/step - accuracy: 1.0000 - loss: 5.5411e-05 - val_accuracy: 1.0000 - val_loss: 5.2344e-05\n",
      "Epoch 8/10\n",
      "\u001b[1m13/13\u001b[0m \u001b[32m━━━━━━━━━━━━━━━━━━━━\u001b[0m\u001b[37m\u001b[0m \u001b[1m0s\u001b[0m 15ms/step - accuracy: 1.0000 - loss: 5.4533e-05 - val_accuracy: 1.0000 - val_loss: 5.0511e-05\n",
      "Epoch 9/10\n",
      "\u001b[1m13/13\u001b[0m \u001b[32m━━━━━━━━━━━━━━━━━━━━\u001b[0m\u001b[37m\u001b[0m \u001b[1m0s\u001b[0m 13ms/step - accuracy: 1.0000 - loss: 5.0810e-05 - val_accuracy: 1.0000 - val_loss: 4.8778e-05\n",
      "Epoch 10/10\n",
      "\u001b[1m13/13\u001b[0m \u001b[32m━━━━━━━━━━━━━━━━━━━━\u001b[0m\u001b[37m\u001b[0m \u001b[1m0s\u001b[0m 14ms/step - accuracy: 1.0000 - loss: 5.2305e-05 - val_accuracy: 1.0000 - val_loss: 4.7044e-05\n"
     ]
    }
   ],
   "source": [
    "# Train/Test Split\n",
    "X_hts_train, X_hts_test, y_hts_train, y_hts_test = train_test_split(X_hts, y_hts, test_size=0.2, random_state=42)\n",
    "\n",
    "# Step 4: Build Model\n",
    "hts_model = keras.Sequential([\n",
    "    keras.layers.Input(shape=(X_hts_train.shape[1],)),\n",
    "    keras.layers.Embedding(input_dim=5000, output_dim=64),\n",
    "    keras.layers.GlobalAveragePooling1D(),\n",
    "    keras.layers.Dense(64, activation='relu'),\n",
    "    keras.layers.Dense(1, activation='sigmoid')  # binary classification\n",
    "])\n",
    "\n",
    "hts_model.compile(optimizer='adam', loss='binary_crossentropy', metrics=['accuracy'])\n",
    "\n",
    "# Step 5: Train Model\n",
    "hts_history = hts_model.fit(X_hts_train, y_hts_train, epochs=10, validation_data=(X_hts_test, y_hts_test))"
   ]
  },
  {
   "cell_type": "code",
   "execution_count": 9,
   "id": "63df48d2-8c52-4db8-845e-dfd09399b078",
   "metadata": {},
   "outputs": [
    {
     "data": {
      "image/png": "[encoded data removed]",
      "text/plain": [
       "<Figure size 640x480 with 1 Axes>"
      ]
     },
     "metadata": {},
     "output_type": "display_data"
    },
    {
     "name": "stdout",
     "output_type": "stream",
     "text": [
      "\n",
      "HTS Dataset - Final Validation Accuracy: 1.0\n"
     ]
    }
   ],
   "source": [
    "# Step 6: Plot Training History\n",
    "plt.plot(hts_history.history['accuracy'], label='Training Accuracy')\n",
    "plt.plot(hts_history.history['val_accuracy'], label='Validation Accuracy')\n",
    "plt.title('HTS Model - Predicting Additional Duties')\n",
    "plt.xlabel('Epoch')\n",
    "plt.ylabel('Accuracy')\n",
    "plt.legend()\n",
    "plt.show()\n",
    "\n",
    "# Step 7: Analysis\n",
    "print(\"\\nHTS Dataset - Final Validation Accuracy:\", hts_history.history['val_accuracy'][-1])"
   ]
  },
  {
   "cell_type": "code",
   "execution_count": null,
   "id": "260478f1-44b0-47a0-b19e-83cb5fae40b8",
   "metadata": {},
   "outputs": [],
   "source": []
  }
 ],
 "metadata": {
  "kernelspec": {
   "display_name": "Python 3 (ipykernel)",
   "language": "python",
   "name": "python3"
  },
  "language_info": {
   "codemirror_mode": {
    "name": "ipython",
    "version": 3
   },
   "file_extension": ".py",
   "mimetype": "text/x-python",
   "name": "python",
   "nbconvert_exporter": "python",
   "pygments_lexer": "ipython3",
   "version": "3.11.11"
  }
 },
 "nbformat": 4,
 "nbformat_minor": 5
}
